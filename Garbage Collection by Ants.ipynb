{
 "cells": [
  {
   "cell_type": "markdown",
   "id": "9ac437d7",
   "metadata": {},
   "source": [
    "**Garbage collection by ants**"
   ]
  },
  {
   "cell_type": "markdown",
   "id": "b950e8d6",
   "metadata": {},
   "source": [
    "This simulation is based on the example in teh book \"Turtles, Termites and Traffic Jams\" by Mitchel Resnick. Assume there are tiny piecces of garbage scattered in 2-D space, where many ants are wandering randomly. When an ant comes to a place where there is some garbage, it behaves according to very simple behaviour rules:  \n",
    "1. If the ant is holding a piece of garbage, it drops the piece. \n",
    "2. If the ant isn't holding any piece of garbage, it picks up the piece of garbage.   \n",
    "These simple behavioural rules allow ants to spontaneously collect and pile up garbage and clear up the space in the long run. Suc"
   ]
  },
  {
   "cell_type": "code",
   "execution_count": 1,
   "id": "0edd79f3",
   "metadata": {},
   "outputs": [
    {
     "name": "stderr",
     "output_type": "stream",
     "text": [
      "\n",
      "Bad key text.latex.preview in file C:\\Users\\Omika\\anaconda3\\lib\\site-packages\\matplotlib\\mpl-data\\stylelib\\_classic_test.mplstyle, line 123 ('text.latex.preview : False')\n",
      "You probably need to get an updated matplotlibrc file from\n",
      "https://github.com/matplotlib/matplotlib/blob/v3.5.0/matplotlibrc.template\n",
      "or from the matplotlib source distribution\n",
      "\n",
      "Bad key mathtext.fallback_to_cm in file C:\\Users\\Omika\\anaconda3\\lib\\site-packages\\matplotlib\\mpl-data\\stylelib\\_classic_test.mplstyle, line 155 ('mathtext.fallback_to_cm : True  # When True, use symbols from the Computer Modern')\n",
      "You probably need to get an updated matplotlibrc file from\n",
      "https://github.com/matplotlib/matplotlib/blob/v3.5.0/matplotlibrc.template\n",
      "or from the matplotlib source distribution\n",
      "\n",
      "Bad key savefig.jpeg_quality in file C:\\Users\\Omika\\anaconda3\\lib\\site-packages\\matplotlib\\mpl-data\\stylelib\\_classic_test.mplstyle, line 418 ('savefig.jpeg_quality: 95       # when a jpeg is saved, the default quality parameter.')\n",
      "You probably need to get an updated matplotlibrc file from\n",
      "https://github.com/matplotlib/matplotlib/blob/v3.5.0/matplotlibrc.template\n",
      "or from the matplotlib source distribution\n",
      "\n",
      "Bad key keymap.all_axes in file C:\\Users\\Omika\\anaconda3\\lib\\site-packages\\matplotlib\\mpl-data\\stylelib\\_classic_test.mplstyle, line 466 ('keymap.all_axes : a                 # enable all axes')\n",
      "You probably need to get an updated matplotlibrc file from\n",
      "https://github.com/matplotlib/matplotlib/blob/v3.5.0/matplotlibrc.template\n",
      "or from the matplotlib source distribution\n",
      "\n",
      "Bad key animation.avconv_path in file C:\\Users\\Omika\\anaconda3\\lib\\site-packages\\matplotlib\\mpl-data\\stylelib\\_classic_test.mplstyle, line 477 ('animation.avconv_path: avconv     # Path to avconv binary. Without full path')\n",
      "You probably need to get an updated matplotlibrc file from\n",
      "https://github.com/matplotlib/matplotlib/blob/v3.5.0/matplotlibrc.template\n",
      "or from the matplotlib source distribution\n",
      "\n",
      "Bad key animation.avconv_args in file C:\\Users\\Omika\\anaconda3\\lib\\site-packages\\matplotlib\\mpl-data\\stylelib\\_classic_test.mplstyle, line 479 ('animation.avconv_args:            # Additional arguments to pass to avconv')\n",
      "You probably need to get an updated matplotlibrc file from\n",
      "https://github.com/matplotlib/matplotlib/blob/v3.5.0/matplotlibrc.template\n",
      "or from the matplotlib source distribution\n"
     ]
    }
   ],
   "source": [
    "import matplotlib\n",
    "matplotlib.use(\"TkAgg\")\n",
    "\n",
    "import pylab as pl\n",
    "import random as rd\n",
    "import scipy as sp\n",
    "\n",
    "rd.seed()\n",
    "\n",
    "width = 50\n",
    "height = 50\n",
    "\n",
    "free = 0\n",
    "carrying = 1\n",
    "\n",
    "populationSize = 50\n",
    "garbageProb = 0.8\n",
    "\n",
    "def init():\n",
    "    global time, agents, envir\n",
    "    \n",
    "    time = 0\n",
    "    \n",
    "    agents = []\n",
    "    for i in range(populationSize):\n",
    "        newAgent = [rd.randint(0, width - 1), rd.randint(0, height - 1), free]\n",
    "        agents.append(newAgent)\n",
    "        \n",
    "    envir = sp.zeros([height, width])\n",
    "    for y in range(height):\n",
    "        for x in range(width):\n",
    "            if rd.random() < garbageProb:\n",
    "                state = 1\n",
    "            else:\n",
    "                state = 0\n",
    "            envir[y, x] = state\n",
    "    \n",
    "def draw():\n",
    "    pl.cla()\n",
    "    pl.pcolor(envir, cmap = pl.cm.YlOrRd, vmin = 0, vmax = 5)\n",
    "    pl.axis(\"image\")\n",
    "    x = [ag[0] + 0.5 for ag in agents]\n",
    "    y = [ag[1] + 0.5 for ag in agents]\n",
    "    s = [ag[2] for ag in agents]\n",
    "    pl.scatter(x, y, c = s, cmap = pl.cm.binary)\n",
    "    pl.title(\"t = \" + str(time))\n",
    "\n",
    "def clip(a, amin, amax):\n",
    "    if a < amin:\n",
    "        return amin\n",
    "    elif a > amax:\n",
    "        return amax\n",
    "    else:\n",
    "        return a\n",
    "\n",
    "def step():\n",
    "    global time, agents, envir\n",
    "    \n",
    "    time += 1\n",
    "    \n",
    "    for ag in agents:\n",
    "        \n",
    "        #simulate random motion\n",
    "        ag[0] += rd.randint(-1, 1)\n",
    "        ag[1] += rd.randint(-1, 1)\n",
    "        ag[0] = clip(ag[0], 0, width-1)\n",
    "        ag[1] = clip(ag[1], 0, height-1)\n",
    "        \n",
    "        #simulate interaction between ants and environment\n",
    "        if envir[ag[1], ag[0]] > 0:\n",
    "            if ag[2] == free:\n",
    "                envir[ag[1], ag[0]] -= 1\n",
    "                ag[2] = carrying\n",
    "            else:\n",
    "                envir[ag[1], ag[0]] += 1\n",
    "                ag[2] = free"
   ]
  },
  {
   "cell_type": "code",
   "execution_count": 2,
   "id": "b9e2b82b",
   "metadata": {},
   "outputs": [
    {
     "name": "stderr",
     "output_type": "stream",
     "text": [
      "C:\\Users\\Omika\\AppData\\Local\\Temp/ipykernel_31760/3406942834.py:29: DeprecationWarning: scipy.zeros is deprecated and will be removed in SciPy 2.0.0, use numpy.zeros instead\n",
      "  envir = sp.zeros([height, width])\n",
      "C:\\Users\\Omika\\anaconda3\\lib\\site-packages\\ipykernel\\eventloops.py:256: RuntimeWarning: coroutine 'Kernel.do_one_iteration' was never awaited\n",
      "  self.func()\n",
      "RuntimeWarning: Enable tracemalloc to get the object allocation traceback\n"
     ]
    }
   ],
   "source": [
    "import pycxsimulator\n",
    "pycxsimulator.GUI().start(func=[init, draw, step])"
   ]
  }
 ],
 "metadata": {
  "@webio": {
   "lastCommId": null,
   "lastKernelId": null
  },
  "kernelspec": {
   "display_name": "Python 3 (ipykernel)",
   "language": "python",
   "name": "python3"
  },
  "language_info": {
   "codemirror_mode": {
    "name": "ipython",
    "version": 3
   },
   "file_extension": ".py",
   "mimetype": "text/x-python",
   "name": "python",
   "nbconvert_exporter": "python",
   "pygments_lexer": "ipython3",
   "version": "3.8.12"
  }
 },
 "nbformat": 4,
 "nbformat_minor": 5
}
